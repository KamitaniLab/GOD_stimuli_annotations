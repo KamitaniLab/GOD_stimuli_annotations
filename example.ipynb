{
 "cells": [
  {
   "attachments": {},
   "cell_type": "markdown",
   "metadata": {},
   "source": [
    "## Load caption annotations\n",
    "\n",
    "You can get 5 captions for each of the 1200 images included in the ImageNetTraining dataset."
   ]
  },
  {
   "cell_type": "code",
   "execution_count": 1,
   "metadata": {},
   "outputs": [
    {
     "name": "stdout",
     "output_type": "stream",
     "text": [
      "Image ID examples\n",
      "['n01518878_10042', 'n01518878_12028', 'n01518878_14075', 'n01518878_14910', 'n01518878_5958', 'n01518878_7346', 'n01518878_7579', 'n01518878_8432', 'n01639765_22407', 'n01639765_32862']\n",
      "Category ID examples\n",
      "['n01518878', 'n01639765', 'n01645776', 'n01664990', 'n01704323', 'n01726692', 'n01768244', 'n01770393', 'n01772222', 'n01784675']\n"
     ]
    }
   ],
   "source": [
    "import numpy as np\n",
    "import pandas as pd\n",
    "from pprint import pprint\n",
    "\n",
    "df = pd.read_json(\"data/ImageNetTraining_captions.jsonl\", orient=\"records\", lines=True)\n",
    "\n",
    "# Load image id list (1200 images)\n",
    "image_id_list = sorted(np.unique(list(df[\"image_id\"].values)))\n",
    "print(\"Image ID examples\")\n",
    "print(image_id_list[:10])\n",
    "\n",
    "# Read category id list (unique 150 categories) \n",
    "category_id_list = sorted(np.unique(list(df[\"category_id\"].values)))\n",
    "print(\"Category ID examples\")\n",
    "print(category_id_list[:10])"
   ]
  },
  {
   "cell_type": "code",
   "execution_count": 2,
   "metadata": {},
   "outputs": [
    {
     "name": "stdout",
     "output_type": "stream",
     "text": [
      "Image ID: n01518878_10042\n",
      "['A brown and tan ostridge walking near a metal building,',\n",
      " 'Brown feathered ostrich with white head and neck facing to the left, '\n",
      " 'standing near a metal or aluminum type fencing.',\n",
      " 'An ostrich with ruffled feathers looks in the direction of a green building.',\n",
      " 'A brown ostrich is looking the direction of a green wall.',\n",
      " 'a ostrich standing near a fence and looking at something']\n",
      "Image ID: n01518878_12028\n",
      "['The head of an ostridge looking over a metal fence.',\n",
      " 'An emu or ostrich with an un-amused expression is looking in the direction '\n",
      " 'of the camera.',\n",
      " 'An ostrich with fuzzy hair on its head looks over a wire fence.',\n",
      " 'A serious looking ostrich peers out over a wire fence.',\n",
      " 'A close up image of a disappointed looking ostrich.']\n",
      "Image ID: n01518878_14075\n",
      "['A brown ostridge with its beak open walking in a field of dead grass.',\n",
      " 'A large bird holds its beak open and stands in some brown grass.',\n",
      " 'An ostrich with its beak open walks through long, dry grasses.',\n",
      " 'An ostrich standing in the middle of a brown grass with its mouth open.',\n",
      " 'Flightless large bird walking in field with lots of plumage.']\n"
     ]
    }
   ],
   "source": [
    "# Load captions (6000 captions)\n",
    "for image_id in image_id_list[:3]: # only 3\n",
    "    print(\"Image ID:\", image_id)\n",
    "    # 5 captions for each image\n",
    "    captions = df.query(\"image_id == '{}'\".format(image_id))[\"captions\"].values[0]\n",
    "    pprint(captions)\n"
   ]
  },
  {
   "attachments": {},
   "cell_type": "markdown",
   "metadata": {},
   "source": [
    "## Load category synonyms\n",
    "\n",
    "ImageNetTraining image stimuli were obtained from [ImageNet](https://www.image-net.org/), whose ImageNet IDs are derived from [WordNet](https://wordnet.princeton.edu/ ) synset. \n",
    "You can read the corresponding WordNet synonyms for the 150 categories included in ImageNetTraining. (If you would like to access  more detailed information, please use the `nltk` library.)"
   ]
  },
  {
   "cell_type": "code",
   "execution_count": 3,
   "metadata": {},
   "outputs": [
    {
     "name": "stdout",
     "output_type": "stream",
     "text": [
      "Cateogry ID: n01518878\n",
      "Synonym: ostrich\n",
      "Cateogry ID: n01639765\n",
      "Synonym: frog\n",
      "Cateogry ID: n01645776\n",
      "Synonym: true toad\n"
     ]
    }
   ],
   "source": [
    "df_cat = pd.read_json(\"data/ImageNetTraining_category.jsonl\", orient=\"records\", lines=True)\n",
    "\n",
    "for category_id in category_id_list[:3]: # only 3\n",
    "    print(\"Cateogry ID:\", category_id)\n",
    "    synonyms = df_cat.query(\"synset == '{}'\".format(category_id))[\"synonym\"].values[0]\n",
    "    print(\"Synonym:\", synonyms)\n",
    "    "
   ]
  }
 ],
 "metadata": {
  "kernelspec": {
   "display_name": "base",
   "language": "python",
   "name": "python3"
  },
  "language_info": {
   "codemirror_mode": {
    "name": "ipython",
    "version": 3
   },
   "file_extension": ".py",
   "mimetype": "text/x-python",
   "name": "python",
   "nbconvert_exporter": "python",
   "pygments_lexer": "ipython3",
   "version": "3.8.5"
  },
  "orig_nbformat": 4
 },
 "nbformat": 4,
 "nbformat_minor": 2
}
